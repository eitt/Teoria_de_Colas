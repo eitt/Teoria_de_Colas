{
  "nbformat": 4,
  "nbformat_minor": 0,
  "metadata": {
    "kernelspec": {
      "display_name": "R",
      "language": "R",
      "name": "ir"
    },
    "language_info": {
      "codemirror_mode": "r",
      "file_extension": ".r",
      "mimetype": "text/x-r-source",
      "name": "R",
      "pygments_lexer": "r",
      "version": "3.3.1"
    },
    "colab": {
      "name": "Teoría de Colas.ipynb",
      "provenance": [],
      "collapsed_sections": [],
      "include_colab_link": true
    }
  },
  "cells": [
    {
      "cell_type": "markdown",
      "metadata": {
        "id": "view-in-github",
        "colab_type": "text"
      },
      "source": [
        "<a href=\"https://colab.research.google.com/github/eitt/Teoria_de_Colas/blob/master/Teor%C3%ADa_de_Colas.ipynb\" target=\"_parent\"><img src=\"https://colab.research.google.com/assets/colab-badge.svg\" alt=\"Open In Colab\"/></a>"
      ]
    },
    {
      "cell_type": "markdown",
      "metadata": {
        "id": "XcaKLBshrSTm",
        "colab_type": "text"
      },
      "source": [
        "# Teoría de Colas\n",
        "\n",
        "## 1. Distribuciones de probabilidad\n",
        "Las fuentes de la variación en los problemas de líneas de espera se deben a las **llegadas aleatorias** de los clientes y a las variaciones en los tiempos de servicio. Cada una de estas fuentes se describen con una **distribución de probabilidad**.\n",
        "\n",
        "### 1.1 Distribuciones de llegada\n",
        "Especifica la probabilidad que $n$ clientes lleguen en $T$ períodos de tiempo:\n",
        "\\begin{equation*}\n",
        "P(n)=\\frac{(\\lambda*T)^n}{n!}\n",
        "\\end{equation*}\n",
        "para $n=1,2,...$ Donde $P(n)$ es la probabilidad de $n$ llegadas en $T$ períodos de tiempo, y $\\lambda$ es el número promedio de clientes que llegan por período.\n"
      ]
    },
    {
      "cell_type": "markdown",
      "metadata": {
        "id": "YUn1VCUkvdAD",
        "colab_type": "text"
      },
      "source": [
        "#### Ejemplo # 1\n",
        "El gerente está rediseñando el proceso de servicio al cliente en una tienda departamental. Es importante atender a cuatro clientes. Los clientes llegan al mostrador a una tasa de dos clientes por hora. ¿Cuál es la probabilidad que cuatro clientes lleguen en cualquier hora?\n",
        "#### Solución Ejemplo # 1\n",
        "El primer paso es identificar los parámetros del modelo, en este caso, tenemos tres parámetros: $n, \\lambda, T$. Teniendo en cuenta que $n$ indica la cantidad de entidades en el sistema, para el ejemplo, el valor de $n$ es igual a cuatro clientes, es decir, $n=4 [clientes]$. Por otra parte, la tasa se puede calcular como la relación entre el número de entidades en un determinado tiempo, para el preente ejemplo, llegan dos clientes en una hora, es decir, $\\lambda= (2/1) [clientes/horas]$. Finalmente, la idea es calcular la probabilidad de que lleguen en cualuqier hora, por tanto, se tomará como unidad de tiempo un única hora $T=1 [horas]$\n",
        "En el código, se asigna el valor a la variable de la siguiente manera:\n",
        "\n",
        "```\n",
        "##############################################################################\n",
        "# Asignación del valor de la variable n\n",
        "n <- 4\n",
        "lambda <- 2/1\n",
        "T <- 1\n",
        "##############################################################################\n",
        "```\n",
        "A continución, se ejecuta el código para evaluar la probabilidad\n"
      ]
    },
    {
      "cell_type": "code",
      "metadata": {
        "id": "p_BbV9DbrSTp",
        "colab_type": "code",
        "outputId": "e8e18b7a-a171-4767-e3b9-20c098665409",
        "colab": {
          "base_uri": "https://localhost:8080/",
          "height": 34
        }
      },
      "source": [
        "#Se ingresan los parámetros de entrada\n",
        "n <- 4\n",
        "lambda <- 2/1\n",
        "T <- 1\n",
        "# Se calcula el valor de la probabilidad\n",
        "P <- (((lambda*T)^n)/(factorial(n)))*exp(1)^(-lambda*T)\n",
        "# Se imprime la solución del ejercicio\n",
        "print(paste0(\"La probabilidad de que hayan \", n,\" entidades durante \", T, \" horas es: \",P))\n"
      ],
      "execution_count": 0,
      "outputs": [
        {
          "output_type": "stream",
          "text": [
            "[1] \"La probabilidad de que hayan 4 entidades durante 1 horas es: 0.0902235221577418\"\n"
          ],
          "name": "stdout"
        }
      ]
    },
    {
      "cell_type": "markdown",
      "metadata": {
        "id": "86lllxr1zPy2",
        "colab_type": "text"
      },
      "source": [
        "#### Ejercicio # 1\n",
        "El gerente está rediseñando el proceso de servicio al cliente en una tienda departamental. Es importante atender a cuatro clientes. Los clientes llegan al mostrador a una tasa de dos clientes por hora. ¿Cuál es la probabilidad que cuatro clientes lleguen en cualquier hora? **Trabaje los tiempos en minutos**."
      ]
    },
    {
      "cell_type": "code",
      "metadata": {
        "id": "QiKQ4J9NzZ3S",
        "colab_type": "code",
        "outputId": "d7fb5672-fb9c-4c00-9e43-94e6af57087f",
        "colab": {
          "base_uri": "https://localhost:8080/",
          "height": 34
        }
      },
      "source": [
        "#Se ingresan los parámetros de entrada\n",
        "n <-\n",
        "lambda <- \n",
        "T <- \n",
        "# Se calcula el valor de la probabilidad\n",
        "P <- \n",
        "# Se imprime la solución del ejercicio\n",
        "print(paste0(\"La probabilidad de que hayan \", n,\" entidades durante \", T, \" horas es: \",P))"
      ],
      "execution_count": 0,
      "outputs": [
        {
          "output_type": "stream",
          "text": [
            "[1] \"La probabilidad de que hayan 4 entidades durante 1 horas es: 0.0902235221577418\"\n"
          ],
          "name": "stdout"
        }
      ]
    },
    {
      "cell_type": "markdown",
      "metadata": {
        "id": "8VGMqw99rSTv",
        "colab_type": "text"
      },
      "source": [
        "Ejemplo # 2\n",
        "Para los datos del ejercicio Número 1, suponga que se quiere conocer como cambia la probabilidad durante 4 horas en intervalos de 30 minutos."
      ]
    },
    {
      "cell_type": "code",
      "metadata": {
        "id": "PrLESMX1rSTw",
        "colab_type": "code",
        "colab": {}
      },
      "source": [
        "# Para empezar se crea una función que calcule la probabilidad, teniendo en cuenta la cantidad de intervalos\n",
        "#Se propone una función que reciba cuatro parámetros: x1=n, x2=lambda, x3=Número de horas (T), x4 = número de intervalos / hora\n",
        "Probabilidades <- function(x1, x2, x3,x4) {\n",
        "\n",
        "#Una vez se ejecuta la función, se crea un vector que registre los valores de T, desde cero hasta cuatro horas\n",
        "#Se calcula el tamaño del vector\n",
        "longitud <- x3*x4\n",
        "#Se crea el vector de tiempos\n",
        "tiempo <- 0:(longitud)\n",
        "#Se crea el vector de probabilidades en cero que tenga la misma longitud que el vector tiempos\n",
        "probabilidades <- tiempo*0\n",
        "#Ahora se crea un bucle para evaluar la probabilidad en cada instante de tiempo\n",
        "for (i in 1:longitud+1){\n",
        "  probabilidades[i]<-(((x2*tiempo[i])^n)/(factorial(x1)))*exp(1)^(-x2*tiempo[i])\n",
        "}\n",
        "#una vez finalizado el bucle, almacenamos el resultado en variables globales\n",
        "TIEMPOS <<- tiempo\n",
        "PROBABILIDADES <<- probabilidades\n",
        "}"
      ],
      "execution_count": 0,
      "outputs": []
    },
    {
      "cell_type": "markdown",
      "metadata": {
        "id": "6TI56lV5rST2",
        "colab_type": "text"
      },
      "source": [
        "### 1.2 Distribuciones de tiempo de servicio\n",
        "Describe la probabilidad que el tiempo de servicio del cliente en una instalación particular no sea mayor de $𝑇$ períodos de tiempo.\n",
        "\n",
        "\\begin{equation*}\n",
        "P(t < T)=1-e^{-\\mu*T}\n",
        "\\end{equation*}\n",
        "\n",
        "Donde $\\mu$ es el número promedio de clientes que terminan el servicio por periodo, $t$ es el tiempo de servicio del cliente y $T$ el tiempo de servicio objetivo. \n"
      ]
    },
    {
      "cell_type": "markdown",
      "metadata": {
        "id": "dnWISyHQBHdD",
        "colab_type": "text"
      },
      "source": [
        "#### Ejemplo # 1\n",
        "El gerente de la tienda departamental del ejemplo anterior, debe determinar si es necesario más entrenamiento para el empleado de servicio al cliente. El empleado de servicio al cliente puede atender un promedio de tres clientes por hora. ¿Cuál es la probabilidad que el empleado atienda a un cliente en menos de 10 minutos?\n",
        "\n",
        "#### Solución Ejemplo # 1\n",
        "\n",
        "En el código, se asigna el valor a la variable de la siguiente manera:\n",
        "\n",
        "```\n",
        "##############################################################################\n",
        "# Asignación del valor a los parámetros\n",
        "T <- 10\n",
        "mu <- 3/60\n",
        "P=1-exp(-mu*T)\n",
        "##############################################################################\n",
        "```\n",
        "A continuación, se ejecuta el código para evaluar la probabilidad"
      ]
    },
    {
      "cell_type": "code",
      "metadata": {
        "id": "OTBNZ1CV6ipB",
        "colab_type": "code",
        "colab": {
          "base_uri": "https://localhost:8080/",
          "height": 34
        },
        "outputId": "ceb938ac-669e-4906-bf22-3b3dabea7c8a"
      },
      "source": [
        "# Asignación del valor a los parámetros\n",
        "T <- 10\n",
        "mu <- 3/60\n",
        "P=1-exp(-mu*T)\n",
        "# Se imprime la solución del ejercicio\n",
        "print(paste0(\"La probabilidad de que el empleado atienda a un cliente en menos de \", T,\" minutos es \", P))"
      ],
      "execution_count": 4,
      "outputs": [
        {
          "output_type": "stream",
          "text": [
            "[1] \"La probabilidad de que el empleado atienda a un cliente en menos de 10 minutos es 0.393469340287367\"\n"
          ],
          "name": "stdout"
        }
      ]
    },
    {
      "cell_type": "markdown",
      "metadata": {
        "id": "WtiRA9vCZsK9",
        "colab_type": "text"
      },
      "source": [
        "#### Ejercicio # 1\n",
        "\n",
        "Para el modelo del ejemplo número 1 (tema de tasas de servicio), resuleva el siguiente problema:\n",
        "El gerente de la tienda departamental del ejemplo anterior, debe determinar si es necesario más entrenamiento para el empleado de servicio al cliente. El empleado de servicio al cliente puede atender un promedio de cuatro clientes por hora. ¿Cuál es la probabilidad que el empleado atienda a un cliente en menos de 15 minutos?\n",
        "\n"
      ]
    },
    {
      "cell_type": "code",
      "metadata": {
        "id": "gyJqQMpCaHW1",
        "colab_type": "code",
        "colab": {}
      },
      "source": [
        "#Desarrollo del Ejecicio #1 de tasas de servicio\n",
        "\n",
        "# Asignación del valor a los parámetros\n",
        "#Tiempo objetivo\n",
        "T <- \n",
        "#Tasa de servicio\n",
        "mu <- \n",
        "#Cálculo de probabilidad\n",
        "P=\n",
        "# Se imprime la solución del ejercicio\n",
        "print(paste0(\"La probabilidad de que el empleado atienda a un cliente en menos de \", T,\" minutos es \", P))"
      ],
      "execution_count": 0,
      "outputs": []
    },
    {
      "cell_type": "markdown",
      "metadata": {
        "id": "5NefHGtHasKL",
        "colab_type": "text"
      },
      "source": [
        "## 2. Modelos de colas\n",
        "\n",
        "En general, al discutir el tema de modelos de colas, dependiendo de las características del sistema es posible encontrar diversos esquemas, por tanto, se suele utilizar la notación de Kendall, propuesta por David G. Kendall  en 1953, y que contempla los siguientes parámetros:\n",
        "\n",
        "\n",
        "* **𝑎** : distribución de llegadas\n",
        "* **𝑏** : distribución de salidas (tiempo de servicio)\n",
        "* **𝑐** : cantidad de servidores paralelos (=1,2,3,…,∞)\n",
        "* **𝑑** : disciplina en las colas\n",
        "* **𝑒** : número máximo (finito o infinito) permitido en el sistema (haciendo cola o en servicio)\n",
        "* **𝑓** : tamaño de la fuente solicitante (finita o infinita)\n",
        "\n",
        "**A continuación, se presenta la notación de Kendall**\n",
        "![Notación de Kendall](https://raw.githubusercontent.com/eitt/Teoria_de_Colas/master/Kendall.png)\n",
        "\n",
        "### 2.1 Parámetros de un Modelo de Colas\n",
        "\n",
        "* **𝛌**\t Tasa promedio de llegada (clientes que llegan/ unidad de tiempo)\n",
        "* **1/𝛌**\t Tiempo entre llegadas (unidad de tiempo/cada cliente que llega)\n",
        "* **Μ**\t Tasa promedio de servicio (clientes que atiende el servidor/ unidad de tiempo)\n",
        "* **1/μ**\t Tiempo de servicio (unidad de tiempo/cliente que se atiende)\n",
        "\n",
        "### 2.2 Medidas de desempeño\n",
        "* Cantidad promedio de elementos (clientes) en la cola ($𝑳_𝒒$)\n",
        "* Cantidad promedio de elementos (clientes) en el sistema ($𝑳$)\n",
        "* Tiempo promedio de elementos (clientes) en la cola ($𝑾_𝒒$)\n",
        "* Tiempo promedio de elementos (clientes) en el sistema ($𝑾$)\n",
        "* Probabilidad de encontrar n elementos (clientes) en el sistema ($𝑷_𝒏$)\n",
        "\n",
        "### 2.3 Modelos de un solo servido \n",
        "\n",
        "1.   Sistema con capacidad infinita: ( 𝑀 /𝑀 /1 ) : ( 𝐺 / ∞ /∞ )\n",
        "2.   Sistema con capacidad finita: ( 𝑀 / 𝑀 / 1 ) : ( 𝐺 / 𝑁 / ∞ )\n",
        "\n",
        "### 2.4 Supuestos del modelo \n",
        "\n",
        "* La población de clientes es infinita y todos los clientes son pacientes.\n",
        "* Los clientes llegan conforme a una distribución de **Poisson**, con una tasa media de llegada igual a $λ$.\n",
        "* La distribución de servicio es **Exponencial**, con una tasa media de servicio iguala a $μ$.\n",
        "* Los clientes se atienden sobre una base primero en llegar, primero que se atiende.\n",
        "* La longitud de la línea de espera es ilimitada."
      ]
    },
    {
      "cell_type": "markdown",
      "metadata": {
        "id": "AsUWcBy3f77w",
        "colab_type": "text"
      },
      "source": [
        "### 2.5 Ecuaciones\n",
        "2.5.1 **Probabilidad de que no hayan unidades en el sistema o que la unidad no tenga que esperar:**\n",
        "\\begin{equation*}\n",
        "𝑃_0= 1 - \\frac{\\lambda}{\\mu}= 1 - \\rho = \\rho(𝑊_𝑞 = 0)\n",
        "\\end{equation*}\n",
        "\n",
        "2.5.2 **Cantidad promedio de unidades en la línea de espera**\n",
        "\\begin{equation*}\n",
        "𝐿_𝑞= \\lambda𝑊_𝑞=\\frac{\\lambda}{\\mu(\\mu-\\lambda)}=\\frac{\\rho^2}{1-\\rho}=ρ𝐿_𝑠\n",
        "\\end{equation*}\n",
        "\n",
        "2.5.3 **Cantidad promedio de unidades en el sistema**\n",
        "\\begin{equation*}\n",
        "𝐿_𝑠= \\lambda𝑊_𝑠  =\\frac{\\lambda}{\\mu-\\lambda} = 𝐿_𝑞+\\frac{\\lambda}{\\mu} = \\frac{\\rho}{1-\\rho}\n",
        "\\end{equation*}\n",
        "\n",
        "2.5.4 **Tiempo promedio que pasa una unidad en la línea de espera**\n",
        "\\begin{equation*}\n",
        "𝑊_𝑞 = ρ/(µ−𝛌) =ρ/(µ(1−ρ)) =  𝐿_𝑞/𝛌 = 𝑊_𝑠  - 1/µ=ρ𝑊_𝑠\n",
        "\\end{equation*}\n",
        "\n",
        "2.5.5 **Tiempo promedio que pasa una unidad en le sistema**\n",
        "\\begin{equation*}\n",
        "𝑊_𝑠 = 1/(µ−𝛌) = 𝐿_𝑠/𝛌 = 𝑊_𝑞+  1/µ = 1/(µ(1−ρ))\n",
        "\\end{equation*}\n",
        "\n",
        "2.5.6 **Probabilidad de que una unidad que llega tenga que esperar en el servicio**\n",
        "\\begin{equation*}\n",
        "P ( W > 0 ) = ρ = 𝛌/µ Sí µ > 𝛌 ρ = 𝛌/µ  < 1 \n",
        "\\end{equation*}\n",
        "\n",
        "2.5.7 **Probabilidad de n unidades en el sistema**\n",
        "\\begin{equation*}\n",
        "𝑃_𝑛= (1 – ρ ) ρ^𝑛 =( 𝛌/µ  )^𝑛 𝑃_0\n",
        "\\end{equation*}\n",
        "\n",
        "2.5.8 **Probabilidad de que una unidad que llega tenga que esperar un tiempo mayor que t en la línea de espera**\n",
        "\\begin{equation*}\n",
        "P ( 𝑊_𝑞 > t ) = ρ * 𝑒^{−µ (1−ρ)𝑡}\n",
        "\\end{equation*}\n",
        "\n",
        "2.5.9 **Probabilidad de que una unidad que llega tenga que esperar un tiempo mayor que t en el sistema**\n",
        "\\begin{equation*}\n",
        "𝑃 ( 𝑊 > 𝑡 ) = 𝑒^{−µ (1−ρ)𝑡}\n",
        "\\end{equation*}"
      ]
    },
    {
      "cell_type": "code",
      "metadata": {
        "id": "ZQa8A_sa4t8U",
        "colab_type": "code",
        "outputId": "3185bb18-f74e-4621-9fc4-fdea746f9105",
        "colab": {
          "base_uri": "https://localhost:8080/",
          "height": 129
        }
      },
      "source": [
        ""
      ],
      "execution_count": 0,
      "outputs": [
        {
          "output_type": "error",
          "ename": "ERROR",
          "evalue": "ignored",
          "traceback": [
            "Error in library(queueing): there is no package called ‘queueing’\nTraceback:\n",
            "1. library(queueing)"
          ]
        }
      ]
    },
    {
      "cell_type": "code",
      "metadata": {
        "id": "DgStm5Yu4u6a",
        "colab_type": "code",
        "colab": {}
      },
      "source": [
        ""
      ],
      "execution_count": 0,
      "outputs": []
    }
  ]
}