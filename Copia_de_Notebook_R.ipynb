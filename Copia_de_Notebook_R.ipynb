{
  "nbformat": 4,
  "nbformat_minor": 0,
  "metadata": {
    "kernelspec": {
      "display_name": "R",
      "language": "R",
      "name": "ir"
    },
    "language_info": {
      "codemirror_mode": "r",
      "file_extension": ".r",
      "mimetype": "text/x-r-source",
      "name": "R",
      "pygments_lexer": "r",
      "version": "3.3.1"
    },
    "colab": {
      "name": "Copia de Notebook_R.ipynb",
      "provenance": [],
      "collapsed_sections": [],
      "include_colab_link": true
    }
  },
  "cells": [
    {
      "cell_type": "markdown",
      "metadata": {
        "id": "view-in-github",
        "colab_type": "text"
      },
      "source": [
        "<a href=\"https://colab.research.google.com/github/eitt/Teoria_de_Colas/blob/master/Copia_de_Notebook_R.ipynb\" target=\"_parent\"><img src=\"https://colab.research.google.com/assets/colab-badge.svg\" alt=\"Open In Colab\"/></a>"
      ]
    },
    {
      "cell_type": "markdown",
      "metadata": {
        "id": "XcaKLBshrSTm",
        "colab_type": "text"
      },
      "source": [
        "# Teoría de Colas\n",
        "\n",
        "## Distribuciones de probabilidad\n",
        "Las fuentes de la variación en los problemas de líneas de espera se deben a las **llegadas aleatorias** de los clientes y a las variaciones en los tiempos de servicio. Cada una de estas fuentes se describen con una **distribución de probabilidad**.\n",
        "\n",
        "### Distribuciones de llegada\n",
        "Especifica la probabilidad que $n$ clientes lleguen en $T$ períodos de tiempo:\n",
        "\\begin{equation*}\n",
        "P(n)=\\frac{(\\lambda*T)^n}{n!}\n",
        "\\end{equation*}\n",
        "para $n=1,2,...$ Donde $P(n)$ es la probabilidad de $n$ llegadas en $T$ períodos de tiempo, y $\\lambda$ es el número promedio de clientes que llegan por período.\n"
      ]
    },
    {
      "cell_type": "markdown",
      "metadata": {
        "id": "YUn1VCUkvdAD",
        "colab_type": "text"
      },
      "source": [
        "#### Ejemplo # 1\n",
        "El gerente está rediseñando el proceso de servicio al cliente en una tienda departamental. Es importante atender a cuatro clientes. Los clientes llegan al mostrador a una tasa de dos clientes por hora. ¿Cuál es la probabilidad que cuatro clientes lleguen en cualquier hora?\n",
        "#### Solución Ejemplo # 1\n",
        "El primer paso es identificar los parámetros del modelo, en este caso, tenemos tres parámetros: $n, \\lambda, T$. Teniendo en cuenta que $n$ indica la cantidad de entidades en el sistema, para el ejemplo, el valor de $n$ es igual a cuatro clientes, es decir, $n=4 [clientes]$. Por otra parte, la tasa se puede calcular como la relación entre el número de entidades en un determinado tiempo, para el preente ejemplo, llegan dos clientes en una hora, es decir, $\\lambda= (2/1) [clientes/horas]$. Finalmente, la idea es calcular la probabilidad de que lleguen en cualuqier hora, por tanto, se tomará como unidad de tiempo un única hora $T=1 [horas]$\n",
        "En el código, se asigna el valor a la variable de la siguiente manera:\n",
        "\n",
        "```\n",
        "##############################################################################\n",
        "# Asignación del valor de la variable n\n",
        "n <- 4\n",
        "lambda <- 2/1\n",
        "T <- 1\n",
        "##############################################################################\n",
        "```\n",
        "A continución, se ejecuta el código para evaluar la probabilidad\n"
      ]
    },
    {
      "cell_type": "code",
      "metadata": {
        "id": "p_BbV9DbrSTp",
        "colab_type": "code",
        "colab": {
          "base_uri": "https://localhost:8080/",
          "height": 34
        },
        "outputId": "59e3a534-bdbd-4c6a-f0de-bb30abecd049"
      },
      "source": [
        "#Se ingresan los parámetros de entrada\n",
        "n <- 4\n",
        "lambda <- 2/1\n",
        "T <- 1\n",
        "# Se calcula el valor de la probabilidad\n",
        "P <- (((lambda*T)^n)/(factorial(n)))*exp(1)^(-lambda*T)\n",
        "# Se imprime la solución del ejercicio\n",
        "print(paste0(\"La probabilidad de que hayan \", n,\" entidades durante \", T, \" horas es: \",P))\n"
      ],
      "execution_count": 57,
      "outputs": [
        {
          "output_type": "stream",
          "text": [
            "[1] \"La probabilidad de que hayan 4 entidades durante 1 horas es: 0.0902235221577418\"\n"
          ],
          "name": "stdout"
        }
      ]
    },
    {
      "cell_type": "markdown",
      "metadata": {
        "id": "86lllxr1zPy2",
        "colab_type": "text"
      },
      "source": [
        "#### Ejercicio # 1\n",
        "El gerente está rediseñando el proceso de servicio al cliente en una tienda departamental. Es importante atender a cuatro clientes. Los clientes llegan al mostrador a una tasa de dos clientes por hora. ¿Cuál es la probabilidad que cuatro clientes lleguen en cualquier hora? **Trabaje los tiempos en minutos**."
      ]
    },
    {
      "cell_type": "code",
      "metadata": {
        "id": "QiKQ4J9NzZ3S",
        "colab_type": "code",
        "colab": {}
      },
      "source": [
        "#Se ingresan los parámetros de entrada\n",
        "n <-\n",
        "lambda <- \n",
        "T <- \n",
        "# Se calcula el valor de la probabilidad\n",
        "P <- \n",
        "# Se imprime la solución del ejercicio\n",
        "print(paste0(\"La probabilidad de que hayan \", n,\" entidades durante \", T, \" horas es: \",P))"
      ],
      "execution_count": 0,
      "outputs": []
    },
    {
      "cell_type": "markdown",
      "metadata": {
        "id": "8VGMqw99rSTv",
        "colab_type": "text"
      },
      "source": [
        "Ejemplo # 2\n",
        "Para los datos del ejercicio Número 1, suponga que se quiere conocer como cambia la probabilidad durante 4 horas en intervalos de 30 minutos."
      ]
    },
    {
      "cell_type": "code",
      "metadata": {
        "id": "PrLESMX1rSTw",
        "colab_type": "code",
        "colab": {}
      },
      "source": [
        "# Para empezar se crea una función que calcule la probabilidad, teniendo en cuenta la cantidad de intervalos\n",
        "#Se propone una función que reciba cuatro parámetros: x1=n, x2=lambda, x3=Número de horas (T), x4 = número de intervalos / hora\n",
        "Probabilidades <- function(x1, x2, x3,x4) {\n",
        "\n",
        "#Una vez se ejecuta la función, se crea un vector que registre los valores de T, desde cero hasta cuatro horas\n",
        "#Se calcula el tamaño del vector\n",
        "longitud <- x3*x4\n",
        "#Se crea el vector de tiempos\n",
        "tiempo <- 0:(longitud)\n",
        "#Se crea el vector de probabilidades en cero que tenga la misma longitud que el vector tiempos\n",
        "probabilidades <- tiempo*0\n",
        "#Ahora se crea un bucle para evaluar la probabilidad en cada instante de tiempo\n",
        "for (i in 1:longitud+1){\n",
        "  probabilidades[i]<-(((x2*tiempo[i])^n)/(factorial(x1)))*exp(1)^(-x2*tiempo[i])\n",
        "}\n",
        "#una vez finalizado el bucle, almacenamos el resultado en variables globales\n",
        "TIEMPOS <<- tiempo\n",
        "PROBABILIDADES <<- probabilidades\n",
        "}"
      ],
      "execution_count": 0,
      "outputs": []
    },
    {
      "cell_type": "markdown",
      "metadata": {
        "id": "6TI56lV5rST2",
        "colab_type": "text"
      },
      "source": [
        "### Distribuciones de tiempo de servicio\n",
        "Describe la probabilidad que el tiempo de servicio del cliente en una instalación particular no sea mayor de $𝑇$ períodos de tiempo.\n",
        "\n",
        "\\begin{equation*}\n",
        "P(t < T)=1-e^{-\\mu*T}\n",
        "\\end{equation*}\n",
        "\n",
        "Donde $\\mu$ es el número promedio de clientes que terminan el servicio por periodo, $t$ es el tiempo de servicio del cliente y $T$ el tiempo de servicio objetivo. \n"
      ]
    },
    {
      "cell_type": "markdown",
      "metadata": {
        "id": "dnWISyHQBHdD",
        "colab_type": "text"
      },
      "source": [
        "#### Ejemplo # 1\n",
        "El gerente de la tienda departamental del ejemplo anterior, debe determinar si es necesario más entrenamiento para el empleado de servicio al cliente. El empleado de servicio al cliente puede atender un promedio de tres clientes por hora. ¿Cuál es la probabilidad que el empleado atienda a un cliente en menos de 10 minutos?\n",
        "\n",
        "#### Solución Ejemplo # 1\n",
        "\n",
        "En el código, se asigna el valor a la variable de la siguiente manera:\n",
        "\n",
        "```\n",
        "##############################################################################\n",
        "\n",
        "##############################################################################\n",
        "```\n",
        "A continución, se ejecuta el código para evaluar la probabilidad"
      ]
    },
    {
      "cell_type": "code",
      "metadata": {
        "id": "OTBNZ1CV6ipB",
        "colab_type": "code",
        "colab": {}
      },
      "source": [
        ""
      ],
      "execution_count": 0,
      "outputs": []
    },
    {
      "cell_type": "code",
      "metadata": {
        "id": "0ZDlvLHF4s4N",
        "colab_type": "code",
        "colab": {}
      },
      "source": [
        ""
      ],
      "execution_count": 0,
      "outputs": []
    },
    {
      "cell_type": "code",
      "metadata": {
        "id": "ZQa8A_sa4t8U",
        "colab_type": "code",
        "colab": {}
      },
      "source": [
        "library(queueing)"
      ],
      "execution_count": 0,
      "outputs": []
    },
    {
      "cell_type": "code",
      "metadata": {
        "id": "DgStm5Yu4u6a",
        "colab_type": "code",
        "colab": {}
      },
      "source": [
        ""
      ],
      "execution_count": 0,
      "outputs": []
    }
  ]
}